{
 "cells": [
  {
   "cell_type": "code",
   "execution_count": null,
   "metadata": {},
   "outputs": [],
   "source": [
    "from IPython.display import Image\n",
    "from IPython.core.display import HTML \n",
    "Image(url= \"4a.png\")\n",
    "#a)"
   ]
  },
  {
   "cell_type": "code",
   "execution_count": null,
   "metadata": {},
   "outputs": [],
   "source": [
    "# b)\n",
    "\n",
    "import matplotlib.pyplot as plt\n",
    "import math\n",
    "import numpy as np\n",
    "from scipy.interpolate import interp1d\n",
    "\n",
    "# from scipy import stats as st\n",
    "import seaborn as sns\n",
    "sns.set(color_codes=True)\n",
    "\n",
    "sns.set_palette(sns.color_palette(\"Set2\"))\n",
    "sns.set(rc={'figure.figsize':(10,8)}, style=\"white\", color_codes=True)\n",
    "\n",
    "import warnings\n",
    "warnings.filterwarnings(\"ignore\")\n",
    "\n",
    "def accumulated_probability(x_param):\n",
    "    if x_param < 1:\n",
    "        return 0\n",
    "    if 1 <= x_param < 2:\n",
    "        return ((1/18)*(x_param**2)) - ((1/9)*(x_param)) + 1/18\n",
    "    if 2 <= x_param < 5:\n",
    "        return ((1/9)*(x_param)) - (1/6)\n",
    "    if 5 <= x_param < 7:\n",
    "        return ((2/90)*(x_param**2)) - ((1/9)*(x_param)) + 7/18\n",
    "    if 7 <= x_param < 10:\n",
    "        return ((-(1/30))*(x_param**2)) + ((2/3)*(x_param)) - 7/3\n",
    "    if x_param > 10:\n",
    "        return 1\n",
    "    \n",
    "F4x_values = lambda x_param: accumulated_probability(x_param)\n",
    "\n",
    "x = np.linspace(0, 11, 100000)\n",
    "y = [F4x_values(i) for i in x]\n",
    "\n",
    "plt.plot(x,y)"
   ]
  },
  {
   "cell_type": "code",
   "execution_count": null,
   "metadata": {},
   "outputs": [],
   "source": [
    "# Inversa de F\n",
    "\n",
    "inverse_accumulated_interpolation = interp1d(y, x)\n",
    "inverse_accumulated_values = lambda x_param: inverse_accumulated_interpolation(x_param)\n",
    "\n",
    "rg = np.linspace(0, 1, 100000)\n",
    "values = [inverse_accumulated_values(i) for i in rg]\n",
    "plt.plot(rg, values)"
   ]
  },
  {
   "cell_type": "code",
   "execution_count": 8,
   "metadata": {},
   "outputs": [
    {
     "name": "stdout",
     "output_type": "stream",
     "text": [
      "8.576568548497356\n",
      "7.256039451910511\n",
      "1.59272658110931\n",
      "7.48190835893264\n",
      "8.866145705812299\n",
      "5.102077588463968\n",
      "5.787199497785708\n",
      "7.029736696838317\n",
      "1.816847970600762\n",
      "4.5609738626517355\n"
     ]
    }
   ],
   "source": [
    "# c)\n",
    "\n",
    "mod = 2**32 \n",
    "multiplier = 1013904223\n",
    "increment = 1664525\n",
    "seed = int((97771 + 95637 + 99288 + 95605) / 4)\n",
    "\n",
    "numsGen = {}\n",
    "numsGen[0] = seed\n",
    "\n",
    "def GCL(n):\n",
    "    if (n in numsGen) :\n",
    "        return numsGen[n]\n",
    "    else:\n",
    "        numsGen[n] = (multiplier*GCL(n-1) + increment) % mod\n",
    "        return numsGen[n]\n",
    "    \n",
    "randomNums1 = list()\n",
    "for i in range(0,100000):\n",
    "    x = GCL(i+1)\n",
    "    randomNums1.insert(i,inverse_accumulated_interpolation(x/mod))\n",
    "\n",
    "# Primeros 10 Números Aleatorios\n",
    "for i in range(1,11):\n",
    "    print(randomNums1[i])"
   ]
  },
  {
   "cell_type": "code",
   "execution_count": null,
   "metadata": {},
   "outputs": [],
   "source": [
    "# d) histograma\n",
    "\n",
    "plt.xlabel('Números observados')\n",
    "plt.ylabel('Cantidad de apariciones')\n",
    "plt.title('Histograma')\n",
    "\n",
    "sns.distplot(randomNums1,  kde=False,  hist_kws={'edgecolor':'black', 'alpha':1})\n",
    "sns.set(style=\"white\", context=\"talk\")"
   ]
  },
  {
   "cell_type": "code",
   "execution_count": null,
   "metadata": {},
   "outputs": [],
   "source": []
  }
 ],
 "metadata": {
  "kernelspec": {
   "display_name": "Python 3",
   "language": "python",
   "name": "python3"
  },
  "language_info": {
   "codemirror_mode": {
    "name": "ipython",
    "version": 3
   },
   "file_extension": ".py",
   "mimetype": "text/x-python",
   "name": "python",
   "nbconvert_exporter": "python",
   "pygments_lexer": "ipython3",
   "version": "3.8.5"
  }
 },
 "nbformat": 4,
 "nbformat_minor": 4
}
