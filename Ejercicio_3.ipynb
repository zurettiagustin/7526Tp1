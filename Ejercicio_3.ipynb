{
 "cells": [
  {
   "cell_type": "markdown",
   "metadata": {},
   "source": [
    "# Ejercicio 3"
   ]
  },
  {
   "cell_type": "code",
   "execution_count": 1,
   "metadata": {},
   "outputs": [],
   "source": [
    "import numpy as np\n",
    "import matplotlib.pyplot as plt\n",
    "\n",
    "from math import cos\n",
    "from math import sin\n",
    "from math import pi"
   ]
  },
  {
   "cell_type": "code",
   "execution_count": 2,
   "metadata": {},
   "outputs": [],
   "source": [
    "SQUARE_SIDE = 10\n",
    "CENTER = (20, 20)\n",
    "N=10000\n",
    "ROTATION_ANGLE = -(pi / 4)"
   ]
  },
  {
   "cell_type": "code",
   "execution_count": 3,
   "metadata": {},
   "outputs": [],
   "source": [
    "# Contraint points within the four linear functions that define the shape.\n",
    "# Y1 >= -X + 32.928\n",
    "# Y2 <= -X + 47.071\n",
    "# Y3 >= X - 7.071\n",
    "# Y4 <= X + 7.071\n",
    "def constrained_points(x, y):\n",
    "    X = []\n",
    "    Y = []\n",
    "\n",
    "    for i in range(N):\n",
    "        if (y[i] >= -x[i] + 32.928) and (y[i] <= -x[i] + 47.071) and (y[i] >= x[i] - 7.071) and (y[i] <= x[i] + 7.071):\n",
    "            X.append(x[i])\n",
    "            Y.append(y[i])\n",
    "\n",
    "    return X, Y"
   ]
  },
  {
   "cell_type": "code",
   "execution_count": 4,
   "metadata": {},
   "outputs": [],
   "source": [
    "def rotate_points(x, y):\n",
    "    X = []\n",
    "    Y = []\n",
    "\n",
    "    for i in range(N):\n",
    "        X.append((x[i] - CENTER[0]) * cos(ROTATION_ANGLE) - (y[i] - CENTER[1]) * sin(ROTATION_ANGLE) + CENTER[0])\n",
    "        Y.append((x[i] - CENTER[0]) * sin(ROTATION_ANGLE) + (y[i] - CENTER[1]) * cos(ROTATION_ANGLE) + CENTER[1])\n",
    "    \n",
    "    return X, Y"
   ]
  },
  {
   "cell_type": "code",
   "execution_count": 5,
   "metadata": {},
   "outputs": [],
   "source": [
    "# Renders a batch of points using the provided random function.\n",
    "def render(f):\n",
    "    min_x = CENTER[0] - SQUARE_SIDE / 2\n",
    "    max_x = CENTER[0] + SQUARE_SIDE / 2\n",
    "\n",
    "    min_y = CENTER[1] - SQUARE_SIDE / 2\n",
    "    max_y = CENTER[1] + SQUARE_SIDE / 2\n",
    "\n",
    "    x=f(low=min_x, high=max_x, size=N)\n",
    "    y=f(low=min_y, high=max_y, size=N)\n",
    "\n",
    "    X, Y = rotate_points(x, y)\n",
    "\n",
    "    plt.xlim(0, 40)\n",
    "    plt.ylim(0, 40)\n",
    "    plt.scatter(X, Y, s=1)\n",
    "    plt.figtext(.25, .82, \"Factor de Rendimiento: {}/{} = {}\".format(len(constrained_points(X, Y)[0]), N,\n",
    "                                                                     len(constrained_points(X, Y)[0]) / N))\n",
    "    plt.show()"
   ]
  },
  {
   "cell_type": "markdown",
   "metadata": {},
   "source": [
    "## Metodo 1 (Numpy Uniform Distribution)"
   ]
  },
  {
   "cell_type": "code",
   "execution_count": 6,
   "metadata": {},
   "outputs": [
    {
     "data": {
      "image/png": "[encoded data removed]",
      "text/plain": [
       "<Figure size 432x288 with 1 Axes>"
      ]
     },
     "metadata": {
      "needs_background": "light"
     },
     "output_type": "display_data"
    }
   ],
   "source": [
    "render(np.random.uniform)"
   ]
  },
  {
   "cell_type": "markdown",
   "metadata": {},
   "source": [
    "## Metodo 2 (GCL Ejercicio 1)"
   ]
  },
  {
   "cell_type": "code",
   "execution_count": 7,
   "metadata": {},
   "outputs": [
    {
     "data": {
      "image/png": "[encoded data removed]",
      "text/plain": [
       "<Figure size 432x288 with 1 Axes>"
      ]
     },
     "metadata": {
      "needs_background": "light"
     },
     "output_type": "display_data"
    }
   ],
   "source": [
    "mod = 2**32 \n",
    "multiplier = 1013904223\n",
    "increment = 1664525\n",
    "seed = int((97771 + 95637 + 99288 + 95605) / 4)\n",
    "\n",
    "numsGen = {}\n",
    "numsGen[0] = seed\n",
    "\n",
    "def GCL(n):\n",
    "    if (n in numsGen) :\n",
    "        return numsGen[n]\n",
    "    else:\n",
    "        numsGen[n] = (multiplier*GCL(n-1) + increment) % mod\n",
    "        return numsGen[n]\n",
    "\n",
    "def GCL_wrapper(low, high, size):\n",
    "    X = []\n",
    "    \n",
    "    for i in range(size):\n",
    "        X.append(low + GCL(i) % high)\n",
    "    \n",
    "    return X\n",
    "\n",
    "render(GCL_wrapper)"
   ]
  },
  {
   "cell_type": "markdown",
   "metadata": {},
   "source": [
    "## Conclusion\n",
    "\n",
    "Para comparar ambos métodos utilizamos los gráficos generados mediante Matplotlib y los factores de rendimientos obtenidos en base a las muestras generadas.  \n",
    "Por un lado, con solo ver el gráfico del modelo 1 es sensato decir que este sigue la distribución pedida y, esto queda aún más claro, cuando tenemos en cuanto el factor de rendimiento calculado para el mismo.  \n",
    "Por otro lado, analizando el gráfico del modelo 2 no sigue los lineamientos pedidos por la distribución propuesta y, además, el factor de rendimiento es sustancialmente más bajo que el modelo 1.  \n",
    "En conclusión, el modelo 1 sigue la distribución propuesta pero no así el modelo 2."
   ]
  }
 ],
 "metadata": {
  "kernelspec": {
   "display_name": "Python 3",
   "language": "python",
   "name": "python3"
  },
  "language_info": {
   "codemirror_mode": {
    "name": "ipython",
    "version": 3
   },
   "file_extension": ".py",
   "mimetype": "text/x-python",
   "name": "python",
   "nbconvert_exporter": "python",
   "pygments_lexer": "ipython3",
   "version": "3.7.6"
  }
 },
 "nbformat": 4,
 "nbformat_minor": 4
}
