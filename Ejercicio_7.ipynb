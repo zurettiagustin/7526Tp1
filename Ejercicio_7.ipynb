{
 "cells": [
  {
   "cell_type": "markdown",
   "metadata": {},
   "source": [
    "# Ejercicio 7\n",
    "\n",
    "Se elige la normal de media 10 y desvio 2 del ejercicio 6."
   ]
  },
  {
   "cell_type": "code",
   "execution_count": 1,
   "metadata": {},
   "outputs": [],
   "source": [
    "MEAN = 10\n",
    "DEVIATION = 2\n",
    "SIGNIFICANCE = .05\n",
    "AMOUNTS = [5, 10, 50, 100, 200, 1000, 5000, 7500, 10000]"
   ]
  },
  {
   "cell_type": "code",
   "execution_count": 2,
   "metadata": {},
   "outputs": [],
   "source": [
    "import numpy as np\n",
    "import scipy.stats as st\n",
    "from math import sqrt, exp, pi"
   ]
  },
  {
   "cell_type": "code",
   "execution_count": 3,
   "metadata": {},
   "outputs": [],
   "source": [
    "cota = sqrt(2*exp(1)/pi)\n",
    "\n",
    "def X(x):\n",
    "    return st.norm.pdf(x, loc = 0, scale = 1)\n",
    "\n",
    "def Y(x):\n",
    "    return exp(-x)\n",
    "\n",
    "def probability(x):\n",
    "    return X(x) / (Y(x) * cota)\n",
    "\n",
    "def generate(amount):\n",
    "    simulated = list()\n",
    "    real_distribution_numbers = list()\n",
    "\n",
    "    accepted = 0\n",
    "    while accepted < amount:\n",
    "        xi = np.random.exponential(1)\n",
    "        ui = np.random.uniform()\n",
    "    \n",
    "        if (ui < probability(xi)):\n",
    "            accepted += 1\n",
    "            real_distribution_numbers.append(np.random.normal(MEAN, DEVIATION))\n",
    "        \n",
    "            if(np.random.rand() < 0.5):\n",
    "                simulated.append(xi)\n",
    "            else:\n",
    "                simulated.append(-xi)\n",
    "            \n",
    "    return [ n * 2 + 10 for n in simulated ]"
   ]
  },
  {
   "cell_type": "markdown",
   "metadata": {},
   "source": [
    "## Test de Kolmogorov-Smirnov"
   ]
  },
  {
   "cell_type": "code",
   "execution_count": 4,
   "metadata": {},
   "outputs": [],
   "source": [
    "from scipy.stats import kstest\n",
    "from math import sqrt, log"
   ]
  },
  {
   "cell_type": "code",
   "execution_count": 5,
   "metadata": {},
   "outputs": [
    {
     "name": "stdout",
     "output_type": "stream",
     "text": [
      "Cantidad: 5, Estadistico: 0.3057492785733388, Aceptado: Si\n",
      "Cantidad: 10, Estadistico: 0.20009334224061087, Aceptado: Si\n",
      "Cantidad: 50, Estadistico: 0.18305383510745338, Aceptado: Si\n",
      "Cantidad: 100, Estadistico: 0.06143614584656276, Aceptado: Si\n",
      "Cantidad: 200, Estadistico: 0.08671314385510992, Aceptado: Si\n",
      "Cantidad: 1000, Estadistico: 0.022554626019716528, Aceptado: Si\n",
      "Cantidad: 5000, Estadistico: 0.010666865690891925, Aceptado: Si\n",
      "Cantidad: 7500, Estadistico: 0.008073197302427199, Aceptado: Si\n",
      "Cantidad: 10000, Estadistico: 0.006967456529660243, Aceptado: Si\n"
     ]
    }
   ],
   "source": [
    "for amount in AMOUNTS:\n",
    "    empirical = generate(amount)\n",
    "    statistic = kstest(empirical, 'norm', args=(MEAN, DEVIATION)).statistic\n",
    "    limit = sqrt(-log(SIGNIFICANCE / 2) * (1 / (2 * amount)))\n",
    "    accepted = limit >= statistic\n",
    "    \n",
    "    print(\"Cantidad: {}, Estadistico: {}, Aceptado: {}\".format(amount, statistic, \"Si\" if accepted else \"No\"))"
   ]
  },
  {
   "cell_type": "markdown",
   "metadata": {},
   "source": [
    "Teniendo en cuenta los tests realizados sobre distintas muestras de la distribución podemos afirmar que la distribución se comporta como una distribución normal univariada de media 10 y desvio 2"
   ]
  }
 ],
 "metadata": {
  "kernelspec": {
   "display_name": "Python 3",
   "language": "python",
   "name": "python3"
  },
  "language_info": {
   "codemirror_mode": {
    "name": "ipython",
    "version": 3
   },
   "file_extension": ".py",
   "mimetype": "text/x-python",
   "name": "python",
   "nbconvert_exporter": "python",
   "pygments_lexer": "ipython3",
   "version": "3.8.3"
  }
 },
 "nbformat": 4,
 "nbformat_minor": 4
}
